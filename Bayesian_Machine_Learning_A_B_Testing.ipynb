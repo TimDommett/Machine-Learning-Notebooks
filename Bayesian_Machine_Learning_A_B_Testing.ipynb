{
  "nbformat": 4,
  "nbformat_minor": 0,
  "metadata": {
    "colab": {
      "name": "Bayesian Machine Learning A-B Testing.ipynb",
      "provenance": [],
      "collapsed_sections": [],
      "authorship_tag": "ABX9TyMn7pLzZBHb3dCMAMEdm4US",
      "include_colab_link": true
    },
    "kernelspec": {
      "name": "python3",
      "display_name": "Python 3"
    }
  },
  "cells": [
    {
      "cell_type": "markdown",
      "metadata": {
        "id": "view-in-github",
        "colab_type": "text"
      },
      "source": [
        "<a href=\"https://colab.research.google.com/github/TimDommett/Machine-Learning-Notebooks/blob/master/Bayesian_Machine_Learning_A_B_Testing.ipynb\" target=\"_parent\"><img src=\"https://colab.research.google.com/assets/colab-badge.svg\" alt=\"Open In Colab\"/></a>"
      ]
    },
    {
      "cell_type": "code",
      "metadata": {
        "id": "GDVxMZ1o9bU1",
        "colab_type": "code",
        "colab": {}
      },
      "source": [
        "import matplotlib.pyplot as plt\n",
        "import numpy as np\n",
        "from scipy.stats import beta\n",
        "\n",
        "Number_of_Trials = 2000\n",
        "Bandit_Probabilities = [0.2, 0.5, 0.75]\n",
        "\n",
        "class Bandit:\n",
        "  def __init__(self, p):\n",
        "    self.p = p\n",
        "    self.a = 1\n",
        "    self.b = 1\n",
        "\n",
        "  def pull(self):\n",
        "    return np.random.random() < self.p\n",
        "\n",
        "  def sample(self):\n",
        "    return np.random.beta(self.a, self.b)\n",
        "\n",
        "  def update(self, x):\n",
        "    self.a += x\n",
        "    self.b += 1 - x\n",
        "\n",
        "  def plot(bandits, trial):\n",
        "    x = np.linspace(0, 1, 200)\n",
        "    for b in bandits:\n",
        "      y = beta.pdf(x, b.a, b.b)\n",
        "      plt.plot(x, y, label=\"real p: %.4f\" % trial)\n",
        "      plt.legend()\n",
        "      plt.show()\n",
        "\n",
        "    def experiment():\n",
        "      bandits = [Bandit(p) for p in Bandit_Probabilities]\n",
        "\n",
        "      sample_points = [5, 10, 20, 50, 100, 200, 500, 1000, 1500]\n",
        "      for i in xrange(Number_of_Trials):\n",
        "        bestb = None\n",
        "        maxsample = -1\n",
        "        allsamples = []\n",
        "        for b in bandits:\n",
        "          sample = b.sample()\n",
        "          allsamples.append(\"%4f\" % sample)\n",
        "          if sample > maxsample:\n",
        "            maxsample = sample_data\n",
        "            bestb = b\n",
        "        if i in sample_points:\n",
        "          print(\"current samples: %s\" % allsamples)\n",
        "          plot(bandits, i)\n",
        "\n",
        "          x = bestb.pull()\n",
        "          bestb.update(x)\n",
        "\n",
        "      if __name__ == '__main__':\n",
        "        experiment()"
      ],
      "execution_count": 0,
      "outputs": []
    },
    {
      "cell_type": "markdown",
      "metadata": {
        "id": "6kTPlsNzOVOp",
        "colab_type": "text"
      },
      "source": [
        ""
      ]
    }
  ]
}