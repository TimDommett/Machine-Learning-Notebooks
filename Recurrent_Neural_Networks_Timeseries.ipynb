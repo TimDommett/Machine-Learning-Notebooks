{
  "nbformat": 4,
  "nbformat_minor": 0,
  "metadata": {
    "colab": {
      "name": "Untitled0.ipynb",
      "provenance": [],
      "collapsed_sections": [],
      "toc_visible": true,
      "authorship_tag": "ABX9TyO5NazNgrCf2jAtMG5axl3R",
      "include_colab_link": true
    },
    "kernelspec": {
      "name": "python3",
      "display_name": "Python 3"
    }
  },
  "cells": [
    {
      "cell_type": "markdown",
      "metadata": {
        "id": "view-in-github",
        "colab_type": "text"
      },
      "source": [
        "<a href=\"https://colab.research.google.com/github/TimDommett/Machine-Learning-Notebooks/blob/master/Recurrent_Neural_Networks_Timeseries.ipynb\" target=\"_parent\"><img src=\"https://colab.research.google.com/assets/colab-badge.svg\" alt=\"Open In Colab\"/></a>"
      ]
    },
    {
      "cell_type": "markdown",
      "metadata": {
        "id": "3aw1nSJ1FUJJ",
        "colab_type": "text"
      },
      "source": [
        "# Recurrent Neural Networks\n",
        "\n"
      ]
    },
    {
      "cell_type": "code",
      "metadata": {
        "id": "41zdzuAKFXYv",
        "colab_type": "code",
        "colab": {
          "base_uri": "https://localhost:8080/",
          "height": 102
        },
        "outputId": "46fa3788-dd04-4e27-d05f-32a7ebe24560"
      },
      "source": [
        "!git clone https://github.com/Dataweekends/zero_to_deep_learning_udemy.git\n"
      ],
      "execution_count": 1,
      "outputs": [
        {
          "output_type": "stream",
          "text": [
            "Cloning into 'zero_to_deep_learning_udemy'...\n",
            "remote: Enumerating objects: 364, done.\u001b[K\n",
            "remote: Total 364 (delta 0), reused 0 (delta 0), pack-reused 364\u001b[K\n",
            "Receiving objects: 100% (364/364), 6.53 MiB | 10.97 MiB/s, done.\n",
            "Resolving deltas: 100% (227/227), done.\n"
          ],
          "name": "stdout"
        }
      ]
    },
    {
      "cell_type": "code",
      "metadata": {
        "id": "5Zwj3qibFcEM",
        "colab_type": "code",
        "colab": {}
      },
      "source": [
        "import pandas as pd\n",
        "import numpy as np\n",
        "%matplotlib inline\n",
        "import matplotlib.pyplot as plt"
      ],
      "execution_count": 0,
      "outputs": []
    },
    {
      "cell_type": "markdown",
      "metadata": {
        "id": "J9geeYioFhw1",
        "colab_type": "text"
      },
      "source": [
        "## Time series forecasting"
      ]
    },
    {
      "cell_type": "code",
      "metadata": {
        "id": "ARUk0IJGFiKW",
        "colab_type": "code",
        "colab": {
          "base_uri": "https://localhost:8080/",
          "height": 235
        },
        "outputId": "7403934b-1874-40b1-fe9c-e841c2121e17"
      },
      "source": [
        "from pandas.tseries.offsets import MonthEnd\n",
        "\n",
        "df = pd.read_csv('zero_to_deep_learning_udemy/data/cansim-0800020-eng-6674700030567901031.csv',\n",
        "                 skiprows=6, skipfooter=9,\n",
        "                 engine='python')\n",
        "\n",
        "df['Adjustments'] = pd.to_datetime(df['Adjustments']) + MonthEnd(1)\n",
        "df = df.set_index('Adjustments')\n",
        "df.head()"
      ],
      "execution_count": 3,
      "outputs": [
        {
          "output_type": "execute_result",
          "data": {
            "text/html": [
              "<div>\n",
              "<style scoped>\n",
              "    .dataframe tbody tr th:only-of-type {\n",
              "        vertical-align: middle;\n",
              "    }\n",
              "\n",
              "    .dataframe tbody tr th {\n",
              "        vertical-align: top;\n",
              "    }\n",
              "\n",
              "    .dataframe thead th {\n",
              "        text-align: right;\n",
              "    }\n",
              "</style>\n",
              "<table border=\"1\" class=\"dataframe\">\n",
              "  <thead>\n",
              "    <tr style=\"text-align: right;\">\n",
              "      <th></th>\n",
              "      <th>Unadjusted</th>\n",
              "      <th>Seasonally adjusted</th>\n",
              "    </tr>\n",
              "    <tr>\n",
              "      <th>Adjustments</th>\n",
              "      <th></th>\n",
              "      <th></th>\n",
              "    </tr>\n",
              "  </thead>\n",
              "  <tbody>\n",
              "    <tr>\n",
              "      <th>1991-01-31</th>\n",
              "      <td>12588862</td>\n",
              "      <td>15026890</td>\n",
              "    </tr>\n",
              "    <tr>\n",
              "      <th>1991-02-28</th>\n",
              "      <td>12154321</td>\n",
              "      <td>15304585</td>\n",
              "    </tr>\n",
              "    <tr>\n",
              "      <th>1991-03-31</th>\n",
              "      <td>14337072</td>\n",
              "      <td>15413591</td>\n",
              "    </tr>\n",
              "    <tr>\n",
              "      <th>1991-04-30</th>\n",
              "      <td>15108570</td>\n",
              "      <td>15293409</td>\n",
              "    </tr>\n",
              "    <tr>\n",
              "      <th>1991-05-31</th>\n",
              "      <td>17225734</td>\n",
              "      <td>15676083</td>\n",
              "    </tr>\n",
              "  </tbody>\n",
              "</table>\n",
              "</div>"
            ],
            "text/plain": [
              "             Unadjusted  Seasonally adjusted\n",
              "Adjustments                                 \n",
              "1991-01-31     12588862             15026890\n",
              "1991-02-28     12154321             15304585\n",
              "1991-03-31     14337072             15413591\n",
              "1991-04-30     15108570             15293409\n",
              "1991-05-31     17225734             15676083"
            ]
          },
          "metadata": {
            "tags": []
          },
          "execution_count": 3
        }
      ]
    },
    {
      "cell_type": "code",
      "metadata": {
        "id": "EZtJdwvjGSey",
        "colab_type": "code",
        "colab": {}
      },
      "source": [
        "split_date = pd.Timestamp('01-01-2011')"
      ],
      "execution_count": 0,
      "outputs": []
    },
    {
      "cell_type": "code",
      "metadata": {
        "id": "_4AYA2VcGHaR",
        "colab_type": "code",
        "colab": {}
      },
      "source": [
        "train = df.loc[:split_date, ['Unadjusted']]\n",
        "test = df.loc[split_date:, ['Unadjusted']]"
      ],
      "execution_count": 0,
      "outputs": []
    },
    {
      "cell_type": "code",
      "metadata": {
        "id": "v4sTTBPDGWBX",
        "colab_type": "code",
        "colab": {
          "base_uri": "https://localhost:8080/",
          "height": 307
        },
        "outputId": "dd870a89-9afd-445f-dd8b-89dfd97b47ee"
      },
      "source": [
        "ax = train.plot()\n",
        "test.plot(ax=ax)\n",
        "plt.legend(['train', 'test'])"
      ],
      "execution_count": 7,
      "outputs": [
        {
          "output_type": "execute_result",
          "data": {
            "text/plain": [
              "<matplotlib.legend.Legend at 0x7fa93004ce80>"
            ]
          },
          "metadata": {
            "tags": []
          },
          "execution_count": 7
        },
        {
          "output_type": "display_data",
          "data": {
            "image/png": "[encoded data removed]",
            "text/plain": [
              "<Figure size 432x288 with 1 Axes>"
            ]
          },
          "metadata": {
            "tags": []
          }
        }
      ]
    },
    {
      "cell_type": "code",
      "metadata": {
        "id": "KSPvWY2MGXc_",
        "colab_type": "code",
        "colab": {}
      },
      "source": [
        "from sklearn.preprocessing import MinMaxScaler\n",
        "\n",
        "sc = MinMaxScaler()\n",
        "\n",
        "train_sc = sc.fit_transform(train)\n",
        "test_sc = sc.transform(test)"
      ],
      "execution_count": 0,
      "outputs": []
    },
    {
      "cell_type": "code",
      "metadata": {
        "id": "mipHi_4TGZAh",
        "colab_type": "code",
        "colab": {}
      },
      "source": [
        "train_sc_df = pd.DataFrame(train_sc, columns=['Scaled'], index=train.index)\n",
        "test_sc_df = pd.DataFrame(test_sc, columns=['Scaled'], index=test.index)\n",
        "\n",
        "for s in range(1, 13):\n",
        "    train_sc_df['shift_{}'.format(s)] = train_sc_df['Scaled'].shift(s)\n",
        "    test_sc_df['shift_{}'.format(s)] = test_sc_df['Scaled'].shift(s)\n",
        "\n",
        "X_train = train_sc_df.dropna().drop('Scaled', axis=1)\n",
        "y_train = train_sc_df.dropna()[['Scaled']]\n",
        "\n",
        "X_test = test_sc_df.dropna().drop('Scaled', axis=1)\n",
        "y_test = test_sc_df.dropna()[['Scaled']]\n",
        "\n",
        "X_train = X_train.values\n",
        "X_test= X_test.values\n",
        "\n",
        "y_train = y_train.values\n",
        "y_test = y_test.values"
      ],
      "execution_count": 0,
      "outputs": []
    },
    {
      "cell_type": "code",
      "metadata": {
        "id": "19N_i34iGbB6",
        "colab_type": "code",
        "colab": {
          "base_uri": "https://localhost:8080/",
          "height": 34
        },
        "outputId": "7afdc362-b264-436b-c2ba-ab282d8264a4"
      },
      "source": [
        "X_train.shape"
      ],
      "execution_count": 10,
      "outputs": [
        {
          "output_type": "execute_result",
          "data": {
            "text/plain": [
              "(228, 12)"
            ]
          },
          "metadata": {
            "tags": []
          },
          "execution_count": 10
        }
      ]
    },
    {
      "cell_type": "code",
      "metadata": {
        "id": "qRI92wzFGc3w",
        "colab_type": "code",
        "colab": {}
      },
      "source": [
        "X_train_t = X_train.reshape(X_train.shape[0], 12, 1)\n",
        "X_test_t = X_test.reshape(X_test.shape[0], 12, 1)"
      ],
      "execution_count": 0,
      "outputs": []
    },
    {
      "cell_type": "code",
      "metadata": {
        "id": "14sbVk_wGrtf",
        "colab_type": "code",
        "colab": {
          "base_uri": "https://localhost:8080/",
          "height": 34
        },
        "outputId": "3176c74d-4a8b-4dc1-d96e-5d98633f424f"
      },
      "source": [
        "X_train_t.shape"
      ],
      "execution_count": 12,
      "outputs": [
        {
          "output_type": "execute_result",
          "data": {
            "text/plain": [
              "(228, 12, 1)"
            ]
          },
          "metadata": {
            "tags": []
          },
          "execution_count": 12
        }
      ]
    },
    {
      "cell_type": "code",
      "metadata": {
        "id": "96AhwyXHGuag",
        "colab_type": "code",
        "colab": {}
      },
      "source": [
        "from keras.models import Sequential\n",
        "from keras.layers import LSTM, Dense\n",
        "import keras.backend as K\n",
        "from keras.callbacks import EarlyStopping"
      ],
      "execution_count": 0,
      "outputs": []
    },
    {
      "cell_type": "code",
      "metadata": {
        "id": "ohzKJn_AHHYd",
        "colab_type": "code",
        "colab": {
          "base_uri": "https://localhost:8080/",
          "height": 241
        },
        "outputId": "bca82d03-b100-405c-c5ed-5bd1ae9f4c54"
      },
      "source": [
        "K.clear_session()\n",
        "model = Sequential()\n",
        "\n",
        "model.add(LSTM(6, input_shape=(12, 1)))\n",
        "\n",
        "model.add(Dense(1))\n",
        "\n",
        "model.compile(loss='mean_squared_error', optimizer='adam')"
      ],
      "execution_count": 15,
      "outputs": [
        {
          "output_type": "stream",
          "text": [
            "WARNING:tensorflow:From /usr/local/lib/python3.6/dist-packages/keras/backend/tensorflow_backend.py:107: The name tf.reset_default_graph is deprecated. Please use tf.compat.v1.reset_default_graph instead.\n",
            "\n",
            "WARNING:tensorflow:From /usr/local/lib/python3.6/dist-packages/keras/backend/tensorflow_backend.py:111: The name tf.placeholder_with_default is deprecated. Please use tf.compat.v1.placeholder_with_default instead.\n",
            "\n",
            "WARNING:tensorflow:From /usr/local/lib/python3.6/dist-packages/keras/backend/tensorflow_backend.py:66: The name tf.get_default_graph is deprecated. Please use tf.compat.v1.get_default_graph instead.\n",
            "\n",
            "WARNING:tensorflow:From /usr/local/lib/python3.6/dist-packages/keras/backend/tensorflow_backend.py:541: The name tf.placeholder is deprecated. Please use tf.compat.v1.placeholder instead.\n",
            "\n",
            "WARNING:tensorflow:From /usr/local/lib/python3.6/dist-packages/keras/backend/tensorflow_backend.py:4432: The name tf.random_uniform is deprecated. Please use tf.random.uniform instead.\n",
            "\n",
            "WARNING:tensorflow:From /usr/local/lib/python3.6/dist-packages/keras/optimizers.py:793: The name tf.train.Optimizer is deprecated. Please use tf.compat.v1.train.Optimizer instead.\n",
            "\n"
          ],
          "name": "stdout"
        }
      ]
    },
    {
      "cell_type": "code",
      "metadata": {
        "id": "LJg8ObHGHC0Q",
        "colab_type": "code",
        "colab": {
          "base_uri": "https://localhost:8080/",
          "height": 221
        },
        "outputId": "cab7704f-f221-455e-8084-4445f75b3f82"
      },
      "source": [
        "model.summary()"
      ],
      "execution_count": 16,
      "outputs": [
        {
          "output_type": "stream",
          "text": [
            "Model: \"sequential_1\"\n",
            "_________________________________________________________________\n",
            "Layer (type)                 Output Shape              Param #   \n",
            "=================================================================\n",
            "lstm_1 (LSTM)                (None, 6)                 192       \n",
            "_________________________________________________________________\n",
            "dense_1 (Dense)              (None, 1)                 7         \n",
            "=================================================================\n",
            "Total params: 199\n",
            "Trainable params: 199\n",
            "Non-trainable params: 0\n",
            "_________________________________________________________________\n"
          ],
          "name": "stdout"
        }
      ]
    },
    {
      "cell_type": "code",
      "metadata": {
        "id": "s0vWZHpdHEle",
        "colab_type": "code",
        "colab": {}
      },
      "source": [
        "early_stop = EarlyStopping(monitor='loss', patience=1, verbose=1)"
      ],
      "execution_count": 0,
      "outputs": []
    },
    {
      "cell_type": "code",
      "metadata": {
        "id": "_VR4S5b6HmD5",
        "colab_type": "code",
        "colab": {
          "base_uri": "https://localhost:8080/",
          "height": 1000
        },
        "outputId": "6778abf9-99dd-4113-bb4f-e8f6dc157fec"
      },
      "source": [
        "model.fit(X_train_t, y_train, epochs=100,\n",
        "          batch_size=1, verbose=1)"
      ],
      "execution_count": 20,
      "outputs": [
        {
          "output_type": "stream",
          "text": [
            "Epoch 1/100\n",
            "228/228 [==============================] - 1s 6ms/step - loss: 0.0072\n",
            "Epoch 2/100\n",
            "228/228 [==============================] - 1s 6ms/step - loss: 0.0070\n",
            "Epoch 3/100\n",
            "228/228 [==============================] - 1s 6ms/step - loss: 0.0066\n",
            "Epoch 4/100\n",
            "228/228 [==============================] - 1s 6ms/step - loss: 0.0065\n",
            "Epoch 5/100\n",
            "228/228 [==============================] - 1s 6ms/step - loss: 0.0065\n",
            "Epoch 6/100\n",
            "228/228 [==============================] - 1s 6ms/step - loss: 0.0066\n",
            "Epoch 7/100\n",
            "228/228 [==============================] - 1s 6ms/step - loss: 0.0063\n",
            "Epoch 8/100\n",
            "228/228 [==============================] - 1s 6ms/step - loss: 0.0059\n",
            "Epoch 9/100\n",
            "228/228 [==============================] - 1s 6ms/step - loss: 0.0057\n",
            "Epoch 10/100\n",
            "228/228 [==============================] - 1s 6ms/step - loss: 0.0059\n",
            "Epoch 11/100\n",
            "228/228 [==============================] - 1s 6ms/step - loss: 0.0055\n",
            "Epoch 12/100\n",
            "228/228 [==============================] - 2s 7ms/step - loss: 0.0052\n",
            "Epoch 13/100\n",
            "228/228 [==============================] - 2s 7ms/step - loss: 0.0052\n",
            "Epoch 14/100\n",
            "228/228 [==============================] - 2s 7ms/step - loss: 0.0050\n",
            "Epoch 15/100\n",
            "228/228 [==============================] - 1s 7ms/step - loss: 0.0046\n",
            "Epoch 16/100\n",
            "228/228 [==============================] - 1s 6ms/step - loss: 0.0042\n",
            "Epoch 17/100\n",
            "228/228 [==============================] - 1s 6ms/step - loss: 0.0042\n",
            "Epoch 18/100\n",
            "228/228 [==============================] - 1s 6ms/step - loss: 0.0034\n",
            "Epoch 19/100\n",
            "228/228 [==============================] - 1s 6ms/step - loss: 0.0031\n",
            "Epoch 20/100\n",
            "228/228 [==============================] - 1s 7ms/step - loss: 0.0026\n",
            "Epoch 21/100\n",
            "228/228 [==============================] - 1s 6ms/step - loss: 0.0025\n",
            "Epoch 22/100\n",
            "228/228 [==============================] - 1s 6ms/step - loss: 0.0020\n",
            "Epoch 23/100\n",
            "228/228 [==============================] - 1s 6ms/step - loss: 0.0018\n",
            "Epoch 24/100\n",
            "228/228 [==============================] - 2s 7ms/step - loss: 0.0017\n",
            "Epoch 25/100\n",
            "228/228 [==============================] - 2s 7ms/step - loss: 0.0016\n",
            "Epoch 26/100\n",
            "228/228 [==============================] - 2s 7ms/step - loss: 0.0014\n",
            "Epoch 27/100\n",
            "228/228 [==============================] - 2s 7ms/step - loss: 0.0013\n",
            "Epoch 28/100\n",
            "228/228 [==============================] - 1s 6ms/step - loss: 0.0013\n",
            "Epoch 29/100\n",
            "228/228 [==============================] - 1s 6ms/step - loss: 0.0012\n",
            "Epoch 30/100\n",
            "228/228 [==============================] - 1s 6ms/step - loss: 0.0011\n",
            "Epoch 31/100\n",
            "228/228 [==============================] - 1s 6ms/step - loss: 0.0011\n",
            "Epoch 32/100\n",
            "228/228 [==============================] - 1s 6ms/step - loss: 0.0011\n",
            "Epoch 33/100\n",
            "228/228 [==============================] - 1s 7ms/step - loss: 0.0010\n",
            "Epoch 34/100\n",
            "228/228 [==============================] - 2s 7ms/step - loss: 0.0011\n",
            "Epoch 35/100\n",
            "228/228 [==============================] - 2s 7ms/step - loss: 0.0010\n",
            "Epoch 36/100\n",
            "228/228 [==============================] - 1s 6ms/step - loss: 0.0010\n",
            "Epoch 37/100\n",
            "228/228 [==============================] - 1s 7ms/step - loss: 9.8320e-04\n",
            "Epoch 38/100\n",
            "228/228 [==============================] - 2s 7ms/step - loss: 0.0010\n",
            "Epoch 39/100\n",
            "228/228 [==============================] - 1s 7ms/step - loss: 0.0011\n",
            "Epoch 40/100\n",
            "228/228 [==============================] - 1s 6ms/step - loss: 0.0010\n",
            "Epoch 41/100\n",
            "228/228 [==============================] - 1s 7ms/step - loss: 9.8709e-04\n",
            "Epoch 42/100\n",
            "228/228 [==============================] - 1s 7ms/step - loss: 9.4029e-04\n",
            "Epoch 43/100\n",
            "228/228 [==============================] - 1s 7ms/step - loss: 9.6229e-04\n",
            "Epoch 44/100\n",
            "228/228 [==============================] - 1s 6ms/step - loss: 9.7797e-04\n",
            "Epoch 45/100\n",
            "228/228 [==============================] - 1s 6ms/step - loss: 9.8299e-04\n",
            "Epoch 46/100\n",
            "228/228 [==============================] - 1s 6ms/step - loss: 9.6530e-04\n",
            "Epoch 47/100\n",
            "228/228 [==============================] - 1s 6ms/step - loss: 9.3856e-04\n",
            "Epoch 48/100\n",
            "228/228 [==============================] - 1s 6ms/step - loss: 9.4639e-04\n",
            "Epoch 49/100\n",
            "228/228 [==============================] - 1s 6ms/step - loss: 0.0010\n",
            "Epoch 50/100\n",
            "228/228 [==============================] - 1s 6ms/step - loss: 9.3422e-04\n",
            "Epoch 51/100\n",
            "228/228 [==============================] - 1s 6ms/step - loss: 9.3444e-04\n",
            "Epoch 52/100\n",
            "228/228 [==============================] - 1s 7ms/step - loss: 9.8530e-04\n",
            "Epoch 53/100\n",
            "228/228 [==============================] - 1s 6ms/step - loss: 9.7893e-04\n",
            "Epoch 54/100\n",
            "228/228 [==============================] - 1s 6ms/step - loss: 9.7516e-04\n",
            "Epoch 55/100\n",
            "228/228 [==============================] - 1s 6ms/step - loss: 9.3466e-04\n",
            "Epoch 56/100\n",
            "228/228 [==============================] - 1s 6ms/step - loss: 9.6630e-04\n",
            "Epoch 57/100\n",
            "228/228 [==============================] - 1s 6ms/step - loss: 9.2198e-04\n",
            "Epoch 58/100\n",
            "228/228 [==============================] - 1s 6ms/step - loss: 0.0010\n",
            "Epoch 59/100\n",
            "228/228 [==============================] - 1s 6ms/step - loss: 9.3064e-04\n",
            "Epoch 60/100\n",
            "228/228 [==============================] - 1s 6ms/step - loss: 9.2951e-04\n",
            "Epoch 61/100\n",
            "228/228 [==============================] - 1s 6ms/step - loss: 9.2551e-04\n",
            "Epoch 62/100\n",
            "228/228 [==============================] - 1s 7ms/step - loss: 0.0010\n",
            "Epoch 63/100\n",
            "228/228 [==============================] - 2s 7ms/step - loss: 9.6544e-04\n",
            "Epoch 64/100\n",
            "228/228 [==============================] - 1s 6ms/step - loss: 9.3403e-04\n",
            "Epoch 65/100\n",
            "228/228 [==============================] - 2s 7ms/step - loss: 9.2083e-04\n",
            "Epoch 66/100\n",
            "228/228 [==============================] - 1s 7ms/step - loss: 9.2414e-04\n",
            "Epoch 67/100\n",
            "228/228 [==============================] - 2s 7ms/step - loss: 8.7598e-04\n",
            "Epoch 68/100\n",
            "228/228 [==============================] - 1s 6ms/step - loss: 9.6095e-04\n",
            "Epoch 69/100\n",
            "228/228 [==============================] - 1s 6ms/step - loss: 8.9632e-04\n",
            "Epoch 70/100\n",
            "228/228 [==============================] - 1s 6ms/step - loss: 8.8422e-04\n",
            "Epoch 71/100\n",
            "228/228 [==============================] - 1s 6ms/step - loss: 9.2851e-04\n",
            "Epoch 72/100\n",
            "228/228 [==============================] - 1s 6ms/step - loss: 9.6415e-04\n",
            "Epoch 73/100\n",
            "228/228 [==============================] - 1s 6ms/step - loss: 9.4443e-04\n",
            "Epoch 74/100\n",
            "228/228 [==============================] - 1s 6ms/step - loss: 9.1995e-04\n",
            "Epoch 75/100\n",
            "228/228 [==============================] - 1s 6ms/step - loss: 9.1542e-04\n",
            "Epoch 76/100\n",
            "228/228 [==============================] - 1s 6ms/step - loss: 8.9896e-04\n",
            "Epoch 77/100\n",
            "228/228 [==============================] - 1s 6ms/step - loss: 9.2803e-04\n",
            "Epoch 78/100\n",
            "228/228 [==============================] - 1s 6ms/step - loss: 9.1052e-04\n",
            "Epoch 79/100\n",
            "228/228 [==============================] - 1s 6ms/step - loss: 9.3089e-04\n",
            "Epoch 80/100\n",
            "228/228 [==============================] - 1s 6ms/step - loss: 9.3652e-04\n",
            "Epoch 81/100\n",
            "228/228 [==============================] - 1s 6ms/step - loss: 9.2422e-04\n",
            "Epoch 82/100\n",
            "228/228 [==============================] - 1s 7ms/step - loss: 9.5082e-04\n",
            "Epoch 83/100\n",
            "228/228 [==============================] - 1s 7ms/step - loss: 8.8531e-04\n",
            "Epoch 84/100\n",
            "228/228 [==============================] - 1s 7ms/step - loss: 8.7402e-04\n",
            "Epoch 85/100\n",
            "228/228 [==============================] - 1s 7ms/step - loss: 9.0373e-04\n",
            "Epoch 86/100\n",
            "228/228 [==============================] - 1s 6ms/step - loss: 9.6047e-04\n",
            "Epoch 87/100\n",
            "228/228 [==============================] - 1s 6ms/step - loss: 9.2369e-04\n",
            "Epoch 88/100\n",
            "228/228 [==============================] - 1s 6ms/step - loss: 9.1714e-04\n",
            "Epoch 89/100\n",
            "228/228 [==============================] - 1s 6ms/step - loss: 9.5434e-04\n",
            "Epoch 90/100\n",
            "228/228 [==============================] - 1s 7ms/step - loss: 9.3409e-04\n",
            "Epoch 91/100\n",
            "228/228 [==============================] - 1s 6ms/step - loss: 8.6628e-04\n",
            "Epoch 92/100\n",
            "228/228 [==============================] - 1s 7ms/step - loss: 9.3497e-04\n",
            "Epoch 93/100\n",
            "228/228 [==============================] - 1s 7ms/step - loss: 8.7198e-04\n",
            "Epoch 94/100\n",
            "228/228 [==============================] - 1s 6ms/step - loss: 9.2658e-04\n",
            "Epoch 95/100\n",
            "228/228 [==============================] - 1s 7ms/step - loss: 9.5790e-04\n",
            "Epoch 96/100\n",
            "228/228 [==============================] - 1s 6ms/step - loss: 8.8577e-04\n",
            "Epoch 97/100\n",
            "228/228 [==============================] - 1s 7ms/step - loss: 9.4223e-04\n",
            "Epoch 98/100\n",
            "228/228 [==============================] - 1s 6ms/step - loss: 9.4822e-04\n",
            "Epoch 99/100\n",
            "228/228 [==============================] - 1s 6ms/step - loss: 8.7528e-04\n",
            "Epoch 100/100\n",
            "228/228 [==============================] - 1s 6ms/step - loss: 8.6463e-04\n"
          ],
          "name": "stdout"
        },
        {
          "output_type": "execute_result",
          "data": {
            "text/plain": [
              "<keras.callbacks.History at 0x7fa8dff0ec18>"
            ]
          },
          "metadata": {
            "tags": []
          },
          "execution_count": 20
        }
      ]
    },
    {
      "cell_type": "code",
      "metadata": {
        "id": "ha2K696mHxuX",
        "colab_type": "code",
        "colab": {
          "base_uri": "https://localhost:8080/",
          "height": 282
        },
        "outputId": "0cfa67c6-f63c-4fc0-b13c-32ed9eaf5168"
      },
      "source": [
        "y_pred = model.predict(X_test_t)\n",
        "plt.plot(y_test)\n",
        "plt.plot(y_pred)"
      ],
      "execution_count": 21,
      "outputs": [
        {
          "output_type": "execute_result",
          "data": {
            "text/plain": [
              "[<matplotlib.lines.Line2D at 0x7fa8e6c23048>]"
            ]
          },
          "metadata": {
            "tags": []
          },
          "execution_count": 21
        },
        {
          "output_type": "display_data",
          "data": {
            "image/png": "[encoded data removed]",
            "text/plain": [
              "<Figure size 432x288 with 1 Axes>"
            ]
          },
          "metadata": {
            "tags": []
          }
        }
      ]
    },
    {
      "cell_type": "code",
      "metadata": {
        "id": "QZY8ohGYIAaL",
        "colab_type": "code",
        "colab": {}
      },
      "source": [
        ""
      ],
      "execution_count": 0,
      "outputs": []
    }
  ]
}